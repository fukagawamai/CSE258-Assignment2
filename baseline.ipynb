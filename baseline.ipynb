{
 "cells": [
  {
   "cell_type": "code",
   "execution_count": 87,
   "metadata": {},
   "outputs": [],
   "source": [
    "import json\n",
    "import codecs\n",
    "\n",
    "def parseData(fname):\n",
    "    for l in open(fname, 'rt', encoding=\"utf8\"):\n",
    "        yield eval(l)\n",
    "\n",
    "file_name = (\"reviews.json\")\n",
    "with codecs.open(file_name, 'r', encoding='utf-8',\n",
    "                 errors='ignore') as f:\n",
    "    data_t = list(parseData(file_name))[:60000]"
   ]
  },
  {
   "cell_type": "code",
   "execution_count": 22,
   "metadata": {},
   "outputs": [],
   "source": [
    "data=[]\n",
    "for i in data_t:\n",
    "    if 'stars' in i.keys():\n",
    "        data.append(i)"
   ]
  },
  {
   "cell_type": "code",
   "execution_count": 61,
   "metadata": {},
   "outputs": [
    {
     "data": {
      "text/plain": [
       "{'work': '3206242',\n",
       " 'flags': [],\n",
       " 'unixtime': 1194393600,\n",
       " 'stars': 5.0,\n",
       " 'nhelpful': 0,\n",
       " 'time': 'Nov 7, 2007',\n",
       " 'comment': 'This a great book for young readers to be introduced to the world of Middle Earth. ',\n",
       " 'user': 'van_stef'}"
      ]
     },
     "execution_count": 61,
     "metadata": {},
     "output_type": "execute_result"
    }
   ],
   "source": [
    "data[0]"
   ]
  },
  {
   "cell_type": "code",
   "execution_count": 79,
   "metadata": {},
   "outputs": [],
   "source": [
    "import numpy as np\n",
    "import urllib\n",
    "import nltk\n",
    "from nltk.stem.porter import *\n",
    "from sklearn import linear_model\n",
    "\n",
    "import string\n",
    "import math\n",
    "import random\n",
    "import re\n",
    "import time\n",
    "from collections import Counter\n",
    "from sklearn.metrics import accuracy_score\n",
    "from sklearn.metrics import mean_squared_error\n"
   ]
  },
  {
   "cell_type": "code",
   "execution_count": 29,
   "metadata": {},
   "outputs": [],
   "source": [
    "bigramCount = defaultdict(int)\n",
    "punctuation = set(string.punctuation)\n",
    "stemmer = PorterStemmer()\n",
    "for d in data:\n",
    "    r = ''.join([c for c in d['comment'].lower() if not c in punctuation])\n",
    "    words = r.split()\n",
    "    for i in range(0,len(words)-1):\n",
    "        bigram = words[i] + \" \" + words[i+1]\n",
    "        bigramCount[bigram] += 1"
   ]
  },
  {
   "cell_type": "code",
   "execution_count": 30,
   "metadata": {},
   "outputs": [],
   "source": [
    "countsBigram = [(bigramCount[d], d) for d in bigramCount.keys()]\n",
    "countsBigram.sort()\n",
    "countsBigram.reverse()"
   ]
  },
  {
   "cell_type": "code",
   "execution_count": 31,
   "metadata": {},
   "outputs": [],
   "source": [
    "bigrams = [c[1] for c in countsBigram[:1000]]\n",
    "bigramId = dict(zip(bigrams, range(len(bigrams))))\n",
    "bigramSet = set(bigrams)"
   ]
  },
  {
   "cell_type": "code",
   "execution_count": 32,
   "metadata": {},
   "outputs": [],
   "source": [
    "def feature(text):\n",
    "    feat = [0]*len(bigrams)\n",
    "    words = text.split()\n",
    "    for i in range(len(words)-1):\n",
    "        bigram = words[i] + \" \" + words[i+1]\n",
    "        try:\n",
    "            feat[bigramId[bigram]] += 1\n",
    "        except KeyError:\n",
    "            continue\n",
    "    feat.append(1) #offset\n",
    "    return feat"
   ]
  },
  {
   "cell_type": "code",
   "execution_count": 33,
   "metadata": {},
   "outputs": [],
   "source": [
    "reviewText = [''.join([c for c in datum['comment'].lower() if not c in punctuation]) for datum in data]\n",
    "            "
   ]
  },
  {
   "cell_type": "code",
   "execution_count": 34,
   "metadata": {},
   "outputs": [],
   "source": [
    "X_2 = []\n",
    "for i in range(len(data)):\n",
    "    X_2.append(feature(reviewText[i]))\n",
    "y_2 = [d['stars'] for d in data]"
   ]
  },
  {
   "cell_type": "code",
   "execution_count": 37,
   "metadata": {},
   "outputs": [],
   "source": [
    "reg = 1.0\n",
    "clf = linear_model.Ridge(reg, fit_intercept=False)\n",
    "clf.fit(X_2, y_2)\n",
    "theta = clf.coef_\n",
    "predictions = clf.predict(X_2)"
   ]
  },
  {
   "cell_type": "code",
   "execution_count": null,
   "metadata": {},
   "outputs": [],
   "source": [
    "##############"
   ]
  },
  {
   "cell_type": "code",
   "execution_count": 40,
   "metadata": {},
   "outputs": [],
   "source": [
    "unigramCount = defaultdict(int)\n",
    "for d in data:\n",
    "    r = ''.join([c for c in d['comment'].lower() if not c in punctuation])\n",
    "    for w in r.split():\n",
    "        unigramCount[w] += 1"
   ]
  },
  {
   "cell_type": "code",
   "execution_count": 41,
   "metadata": {},
   "outputs": [],
   "source": [
    "countsUnigram = [(unigramCount[w], w) for w in unigramCount]\n",
    "countsUnigram.sort()\n",
    "countsUnigram.reverse()"
   ]
  },
  {
   "cell_type": "code",
   "execution_count": 42,
   "metadata": {},
   "outputs": [],
   "source": [
    "unigrams = [x[1] for x in countsUnigram[:1000]]\n",
    "unigramId = dict(zip(unigrams, range(len(unigrams))))\n",
    "unigramSet = set(unigrams)\n",
    "\n",
    "countsCombined = countsUnigram + countsBigram\n",
    "countsCombined.sort()\n",
    "countsCombined.reverse()\n",
    "\n",
    "combineds = [x[1] for x in countsCombined[:1000]]\n",
    "combinedId = dict(zip(combineds, range(len(combineds))))\n",
    "\n"
   ]
  },
  {
   "cell_type": "code",
   "execution_count": 43,
   "metadata": {},
   "outputs": [],
   "source": [
    "def feature_3(text):\n",
    "    feat = [0]*len(combineds)\n",
    "    words = text.split()\n",
    "    for i in range(len(words)-1):\n",
    "        bigram = words[i] + \" \" + words[i+1]\n",
    "        try:\n",
    "            feat[combinedId[bigram]] += 1\n",
    "        except KeyError:\n",
    "            continue\n",
    "    for w in words:\n",
    "        try:\n",
    "            feat[combinedId[w]] += 1\n",
    "        except KeyError:\n",
    "            continue\n",
    "    feat.append(1) #offset\n",
    "    return feat"
   ]
  },
  {
   "cell_type": "code",
   "execution_count": 45,
   "metadata": {},
   "outputs": [],
   "source": [
    "X_3 = []\n",
    "for i in range(len(data)):\n",
    "    X_3.append(feature_3(reviewText[i]))\n",
    "y_3 = [d['stars'] for d in data]"
   ]
  },
  {
   "cell_type": "code",
   "execution_count": 46,
   "metadata": {},
   "outputs": [],
   "source": [
    "reg = 1.0\n",
    "clf = linear_model.Ridge(reg, fit_intercept=False)\n",
    "clf.fit(X_3, y_3)\n",
    "theta = clf.coef_\n",
    "predictions_3 = clf.predict(X_3)"
   ]
  },
  {
   "cell_type": "code",
   "execution_count": 47,
   "metadata": {},
   "outputs": [
    {
     "data": {
      "text/plain": [
       "0.7250240354521877"
      ]
     },
     "execution_count": 47,
     "metadata": {},
     "output_type": "execute_result"
    }
   ],
   "source": [
    "mean_squared_error(y_3, predictions_3)\n",
    "                  "
   ]
  },
  {
   "cell_type": "code",
   "execution_count": 49,
   "metadata": {},
   "outputs": [
    {
     "name": "stdout",
     "output_type": "stream",
     "text": [
      "Most negative associated weight:\n",
      "Unigram/Bigram: but this   \t with value: -0.31890\n",
      "Unigram/Bigram: couldnt    \t with value: -0.27200\n",
      "Unigram/Bigram: looking for \t with value: -0.27189\n",
      "Unigram/Bigram: the rest   \t with value: -0.24637\n",
      "Unigram/Bigram: 3          \t with value: -0.24443\n"
     ]
    }
   ],
   "source": [
    "minIdx = np.argpartition(theta, 5)[0:5]\n",
    "smallest = [(combineds[i], theta[i] ) for i in minIdx]\n",
    "print (\"Most negative associated weight:\")\n",
    "for x in smallest:\n",
    "    print (\"Unigram/Bigram: {:10s} \\t with value: {:0.5f}\".format(x[0], x[1]))\n",
    "\n"
   ]
  },
  {
   "cell_type": "code",
   "execution_count": 51,
   "metadata": {},
   "outputs": [],
   "source": [
    "df = defaultdict(int)\n",
    "for d in data:\n",
    "    r = ''.join([c for c in d['comment'].lower() if not c in punctuation])\n",
    "    words = set(r.split())\n",
    "    for w in words:\n",
    "        df[w] += 1"
   ]
  },
  {
   "cell_type": "code",
   "execution_count": 52,
   "metadata": {},
   "outputs": [],
   "source": [
    "def idf(word):\n",
    "    f = df[word]\n",
    "    if f == 0:\n",
    "      # Return maximum idf\n",
    "        return log(len(data), 10)\n",
    "    return log(len(data) / float(f))\n",
    "\n",
    "\n",
    "def tf(word, reviewText):\n",
    "    words = reviewText.split()\n",
    "    c=0\n",
    "    for w in words: \n",
    "        if w == word:\n",
    "            c += 1\n",
    "    return c\n",
    "def tf_idf(word, reviewText):\n",
    "    return tf(word, reviewText) * idf(word)\n"
   ]
  },
  {
   "cell_type": "code",
   "execution_count": 67,
   "metadata": {},
   "outputs": [],
   "source": [
    "def feature_6(reviewText):\n",
    "    feat = [0]*len(unigrams)\n",
    "    words = reviewText.split()\n",
    "    for w in words:\n",
    "        try:\n",
    "            feat[unigramId[w]] = tf_idf(w, reviewText)\n",
    "        except KeyError:\n",
    "            continue\n",
    "    feat.append(1) #offset\n",
    "    return feat"
   ]
  },
  {
   "cell_type": "code",
   "execution_count": 69,
   "metadata": {},
   "outputs": [],
   "source": [
    "X_6 = np.array([feature_6(d) for d in reviewText])\n",
    "y_6 = np.array([d['stars'] for d in data])"
   ]
  },
  {
   "cell_type": "code",
   "execution_count": 85,
   "metadata": {},
   "outputs": [],
   "source": [
    "reg = 10.0\n",
    "clf = linear_model.Ridge(reg, fit_intercept=True)\n",
    "clf.fit(X_6, y_6)\n",
    "theta = clf.coef_\n",
    "predictions_6 = clf.predict(X_6)"
   ]
  },
  {
   "cell_type": "code",
   "execution_count": 89,
   "metadata": {
    "scrolled": true
   },
   "outputs": [
    {
     "data": {
      "text/plain": [
       "0.8517558972984948"
      ]
     },
     "execution_count": 89,
     "metadata": {},
     "output_type": "execute_result"
    }
   ],
   "source": [
    "np.sqrt(mean_squared_error(predictions_6, y_6))"
   ]
  },
  {
   "cell_type": "code",
   "execution_count": null,
   "metadata": {},
   "outputs": [],
   "source": []
  }
 ],
 "metadata": {
  "kernelspec": {
   "display_name": "Python 3",
   "language": "python",
   "name": "python3"
  },
  "language_info": {
   "codemirror_mode": {
    "name": "ipython",
    "version": 3
   },
   "file_extension": ".py",
   "mimetype": "text/x-python",
   "name": "python",
   "nbconvert_exporter": "python",
   "pygments_lexer": "ipython3",
   "version": "3.7.3"
  }
 },
 "nbformat": 4,
 "nbformat_minor": 2
}
